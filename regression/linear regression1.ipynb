{
 "cells": [
  {
   "cell_type": "code",
   "execution_count": 144,
   "metadata": {
    "collapsed": true
   },
   "outputs": [],
   "source": [
    "import numpy as np\n",
    "import matplotlib.pyplot as plt"
   ]
  },
  {
   "cell_type": "code",
   "execution_count": 149,
   "metadata": {
    "collapsed": false
   },
   "outputs": [],
   "source": [
    "def loadData(f):\n",
    "    print(f)\n",
    "    data=np.matrix(np.loadtxt(f,delimiter='  '))\n",
    "    return (data[:,0:2],data[:,2])"
   ]
  },
  {
   "cell_type": "code",
   "execution_count": 150,
   "metadata": {
    "collapsed": true
   },
   "outputs": [],
   "source": [
    "def cost(theta,x,y):\n",
    "    m=x.size\n",
    "    h=np.matmul(x,theta)\n",
    "    return np.sum(np.power(np.subtract(h,y),2))/(2*m)"
   ]
  },
  {
   "cell_type": "code",
   "execution_count": 151,
   "metadata": {
    "collapsed": false
   },
   "outputs": [],
   "source": [
    "def gradientDescent(theta,x,y,iter,alpha):\n",
    "    m=x.size\n",
    "    h=np.matmul(x,theta)\n",
    "    c1=cost(theta,x,y)\n",
    "    for i in range(0,iter):\n",
    "        temp=np.matmul(x.T,np.subtract(h,y))*(alpha/m)\n",
    "        c2=cost((theta-temp),x,y)\n",
    "        if c2<c1:\n",
    "            c1=c2\n",
    "            theta=theta-temp\n",
    "        else:\n",
    "            break\n",
    "    return theta"
   ]
  },
  {
   "cell_type": "code",
   "execution_count": 152,
   "metadata": {
    "collapsed": false
   },
   "outputs": [
    {
     "name": "stdout",
     "output_type": "stream",
     "text": [
      "C:\\Users\\ray93\\OneDrive\\Documents\\Ray\\dataset2.txt\n"
     ]
    }
   ],
   "source": [
    "x,y = loadData(r\"C:\\Users\\ray93\\OneDrive\\Documents\\Ray\\dataset2.txt\")\n",
    "m = Y.size"
   ]
  },
  {
   "cell_type": "code",
   "execution_count": 153,
   "metadata": {
    "collapsed": false
   },
   "outputs": [
    {
     "name": "stdout",
     "output_type": "stream",
     "text": [
      "308.233116562\n",
      "[[ 1.04257988]\n",
      " [ 2.91886259]]\n"
     ]
    }
   ],
   "source": [
    "theta = np.matrix(np.ones(2).reshape(2,1))\n",
    "theta = gradientDescent(theta, x, y, 10000, 0.0000001)\n",
    "print(cost(theta, x, y))\n",
    "print(theta)"
   ]
  },
  {
   "cell_type": "code",
   "execution_count": 154,
   "metadata": {
    "collapsed": false
   },
   "outputs": [
    {
     "data": {
      "image/png": "[encoded data removed]",
      "text/plain": [
       "<matplotlib.figure.Figure at 0x250faefcc88>"
      ]
     },
     "metadata": {},
     "output_type": "display_data"
    },
    {
     "name": "stdout",
     "output_type": "stream",
     "text": [
      "308.233116562\n"
     ]
    }
   ],
   "source": [
    "t=x[:,1]\n",
    "plt.scatter(np.array(t), np.array(y), marker='x', color='r')\n",
    "plt.plot(np.array(t),np.array(np.matmul(x, theta)))\n",
    "plt.title(\"After Regression: slope = \" + str(theta))\n",
    "plt.show()\n",
    "print(cost(theta, x, y))"
   ]
  },
  {
   "cell_type": "code",
   "execution_count": null,
   "metadata": {
    "collapsed": true
   },
   "outputs": [],
   "source": []
  },
  {
   "cell_type": "code",
   "execution_count": null,
   "metadata": {
    "collapsed": true
   },
   "outputs": [],
   "source": []
  }
 ],
 "metadata": {
  "anaconda-cloud": {},
  "kernelspec": {
   "display_name": "Python [conda root]",
   "language": "python",
   "name": "conda-root-py"
  },
  "language_info": {
   "codemirror_mode": {
    "name": "ipython",
    "version": 3
   },
   "file_extension": ".py",
   "mimetype": "text/x-python",
   "name": "python",
   "nbconvert_exporter": "python",
   "pygments_lexer": "ipython3",
   "version": "3.5.2"
  }
 },
 "nbformat": 4,
 "nbformat_minor": 1
}
